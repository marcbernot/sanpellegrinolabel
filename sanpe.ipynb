{
 "cells": [
  {
   "cell_type": "markdown",
   "id": "7540dda4",
   "metadata": {
    "cell_id": "00000-8b869f4e-f184-408a-9924-9c34c138a2c7",
    "deepnote_cell_height": 230,
    "deepnote_cell_type": "markdown"
   },
   "source": [
    "# The San Pellegrino label moiré effect\n",
    "\n",
    "Have you noticed the nice Moiré effect in the San Pellegrino label?\n",
    "\n",
    "In this notebook, we are going to reverse engineer how this wavy pattern is being obtained."
   ]
  },
  {
   "cell_type": "markdown",
   "id": "c89ea2ed",
   "metadata": {
    "cell_id": "00001-123e30a0-8d52-449e-ad93-988554eaa317",
    "deepnote_cell_height": 302,
    "deepnote_cell_type": "markdown"
   },
   "source": [
    "# A quick glimpse at the label\n",
    "I first gently cut the label from a San Pellegrino bottle and scanned it at 300dpi.\n",
    "\n",
    "The notebook lives in a web browser, so we can easily display a number of web compatible formats (like this png file). \n",
    "\n",
    "Notice the wavy pattern which repeats itself. If you look closely it looks like it is obtained from the periodic repetition of a wavy curve and a line along two different directions. Hence the beating effect which corresponds to the fact that the two curves are out of phase (appears darker because more ink density) or in phase (appear lighter because the two curves are one upon the other)."
   ]
  },
  {
   "cell_type": "code",
   "execution_count": null,
   "id": "4e8dbd33",
   "metadata": {
    "cell_id": "00002-ccea5403-353d-4a34-93e7-7e14b07af0fd",
    "deepnote_cell_height": 444.078125,
    "deepnote_cell_type": "code",
    "deepnote_output_heights": [
     311.078125
    ],
    "deepnote_to_be_reexecuted": false,
    "execution_millis": 159,
    "execution_start": 1619832512450,
    "output_cleared": false,
    "source_hash": "2995e056"
   },
   "outputs": [],
   "source": [
    "from IPython.display import Image as imdisplay\n",
    "imfile = 'sanpe300.png'\n",
    "imdisplay(imfile)"
   ]
  },
  {
   "cell_type": "markdown",
   "id": "c0fa5ffc",
   "metadata": {
    "cell_id": "00003-0e557e9b-43da-40b8-a100-e0a43e04fa08",
    "deepnote_cell_height": 242,
    "deepnote_cell_type": "markdown"
   },
   "source": [
    "# Setup\n",
    "## Let's get the image data\n",
    "To get the image data as a an array of numbers we are going to use the pillow/PIL library. The advantage of using this library is that it yields an image object that has plenty of methods, so it is easy to obtain information on the channels in the image and some metadata like the dpi information (the label was scanned)."
   ]
  },
  {
   "cell_type": "code",
   "execution_count": null,
   "id": "1f34aa48",
   "metadata": {
    "cell_id": "00004-1bf29ca7-ce5a-4440-8dad-0f5301294c63",
    "deepnote_cell_height": 99,
    "deepnote_cell_type": "code",
    "deepnote_to_be_reexecuted": false,
    "execution_millis": 96,
    "execution_start": 1619832513288,
    "source_hash": "1f856c2b"
   },
   "outputs": [],
   "source": [
    "from PIL import Image\n",
    "from pprint import pprint"
   ]
  },
  {
   "cell_type": "code",
   "execution_count": null,
   "id": "5a3c25ec",
   "metadata": {
    "cell_id": "00005-f9bc00bc-d584-4dfe-ab40-12a44b181db0",
    "deepnote_cell_height": 130,
    "deepnote_cell_type": "code",
    "deepnote_to_be_reexecuted": false,
    "execution_millis": 762613,
    "execution_start": 1619832513288,
    "source_hash": "6adc0514"
   },
   "outputs": [],
   "source": [
    "im = Image.open(imfile)\n",
    "print(type(im))"
   ]
  },
  {
   "cell_type": "code",
   "execution_count": null,
   "id": "f9c82f88",
   "metadata": {
    "cell_id": "00006-befb1cd0-ddc3-4a69-80a2-00a8f7a003d8",
    "deepnote_cell_height": 390,
    "deepnote_cell_type": "code",
    "deepnote_to_be_reexecuted": false,
    "execution_millis": 762061,
    "execution_start": 1619832513289,
    "source_hash": "6c876f7b"
   },
   "outputs": [],
   "source": [
    "print(im.getbands())\n",
    "pprint(im.info)"
   ]
  },
  {
   "cell_type": "markdown",
   "id": "9c2d7461",
   "metadata": {
    "cell_id": "00007-b26965f2-bb18-423a-83e2-d9ad153662ca",
    "deepnote_cell_height": 74,
    "deepnote_cell_type": "markdown"
   },
   "source": [
    "To get to the data array itself, we can use some type casting of the image into a numpy array."
   ]
  },
  {
   "cell_type": "code",
   "execution_count": null,
   "id": "a5706a1a",
   "metadata": {
    "cell_id": "00008-7b2adeb2-943a-443f-9be6-501a96f6c757",
    "deepnote_cell_height": 154,
    "deepnote_cell_type": "code",
    "deepnote_output_heights": [
     21
    ],
    "deepnote_to_be_reexecuted": false,
    "execution_millis": 95,
    "execution_start": 1619832513290,
    "source_hash": "b8552692"
   },
   "outputs": [],
   "source": [
    "import numpy as np\n",
    "imarray = np.array(im)\n",
    "imarray.shape"
   ]
  },
  {
   "cell_type": "markdown",
   "id": "3ffc5a5d",
   "metadata": {
    "cell_id": "00009-bdcf5f04-8bdf-4d66-996d-5bccd4fb05ff",
    "deepnote_cell_height": 70,
    "deepnote_cell_type": "markdown"
   },
   "source": [
    "## Using xarray"
   ]
  },
  {
   "cell_type": "markdown",
   "id": "94af7bf1",
   "metadata": {
    "cell_id": "00010-661268f7-a180-4d06-9984-53d6fdc37237",
    "deepnote_cell_height": 198,
    "deepnote_cell_type": "markdown"
   },
   "source": [
    "Rather than sticking to an np.array, we are going to use a DataArray structure (from the xarray library). This allows to give name to the axes and also to work with meaningfull float coordinates (millimeter scale here) rather than the basic array indexing of the np.array.\n",
    "\n",
    "This needs some additional work, but it pays for itself with the simplification of the subsequent code, and it is often important to work with the right scale (mm versus pixels)."
   ]
  },
  {
   "cell_type": "code",
   "execution_count": null,
   "id": "9489bb90",
   "metadata": {
    "cell_id": "00011-a39bc239-f11c-40a5-bf3f-f28c73103acc",
    "deepnote_cell_height": 351,
    "deepnote_cell_type": "code",
    "deepnote_to_be_reexecuted": false,
    "execution_millis": 119,
    "execution_start": 1619832513291,
    "source_hash": "9756bd2e"
   },
   "outputs": [],
   "source": [
    "import xarray as xr\n",
    "\n",
    "inch_mm = 25.4\n",
    "\n",
    "def im2DataArray(im):\n",
    "    imarray = np.array(im)\n",
    "    dpi = im.info['dpi']\n",
    "    xmax_mm, ymax_mm = im.width/dpi[0]*inch_mm,im.height/dpi[1]*inch_mm\n",
    "    xs = np.linspace(0,xmax_mm,im.width)\n",
    "    ys = np.linspace(0,ymax_mm,im.height)\n",
    "    \n",
    "    da = xr.DataArray(imarray,\n",
    "                      coords = dict(y=ys,x=xs,channel = list(im.getbands())),\n",
    "                      dims = ['y','x','channel'],\n",
    "                      name='value')\n",
    "    return da"
   ]
  },
  {
   "cell_type": "code",
   "execution_count": null,
   "id": "29185dc8",
   "metadata": {
    "cell_id": "00012-69f2681b-7872-4e16-8d8e-991a29f60365",
    "deepnote_cell_height": 117,
    "deepnote_cell_type": "code",
    "deepnote_to_be_reexecuted": false,
    "execution_millis": 0,
    "execution_start": 1619832513298,
    "source_hash": "487d9ee2"
   },
   "outputs": [],
   "source": [
    "da = im2DataArray(im)\n",
    "# to lower the memory footprint of imview () in some part of the notebook, I also\n",
    "da_low = im2DataArray(Image.open('sanpe150.png'))"
   ]
  },
  {
   "cell_type": "markdown",
   "id": "4ce3d41f",
   "metadata": {
    "cell_id": "00014-3aff078c-03ff-483a-adae-509f17aab64e",
    "deepnote_cell_height": 74,
    "deepnote_cell_type": "markdown",
    "tags": []
   },
   "source": [
    "To display holoviews objects with the bokeh backend within deepnote, we need to define this show function. "
   ]
  },
  {
   "cell_type": "markdown",
   "id": "a1faf879",
   "metadata": {
    "cell_id": "00016-0c64fd98-0768-4603-8859-b608b85a777e",
    "deepnote_cell_height": 74,
    "deepnote_cell_type": "markdown",
    "tags": []
   },
   "source": [
    "Now we are ready to benefit from the data array structure. We have setup everything that was needed to display the image along with a mm scale."
   ]
  },
  {
   "cell_type": "code",
   "execution_count": null,
   "id": "eebfdc42",
   "metadata": {
    "cell_id": "00015-80572d53-31f4-4f65-9fe0-65c09cdfacb4",
    "deepnote_cell_height": 599,
    "deepnote_cell_type": "code",
    "deepnote_output_heights": [
     2,
     2,
     2,
     367
    ],
    "deepnote_to_be_reexecuted": false,
    "execution_millis": 1397,
    "execution_start": 1619832514181,
    "output_cleared": false,
    "source_hash": "d267633f"
   },
   "outputs": [],
   "source": [
    "import hvplot.xarray\n",
    "imview = da_low.hvplot.rgb('x','y','value',bands = 'channel',flip_yaxis=True,data_aspect=1)\n",
    "imview"
   ]
  },
  {
   "cell_type": "markdown",
   "id": "902ca69a",
   "metadata": {
    "cell_id": "00016-73ff429d-58e2-47c0-b78f-6e75330c5673",
    "deepnote_cell_height": 70,
    "deepnote_cell_type": "markdown"
   },
   "source": [
    "## Cropping the image"
   ]
  },
  {
   "cell_type": "markdown",
   "id": "a2988e2c",
   "metadata": {
    "cell_id": "00017-7f686fd3-af32-401e-b29e-2b476353519e",
    "deepnote_cell_height": 154,
    "deepnote_cell_type": "markdown"
   },
   "source": [
    "We are first going to find what is the exact periodicity of the moiré pattern.\n",
    "\n",
    "To achieve that we need to first crop a small $1cm^2$ data array in the full data array. We define the cropping box as a tuple and we also unpack the tuple as the x,y coordinates of the box. Notice how we can overlay two holoviews object with the * operator and get a layout with the + operator."
   ]
  },
  {
   "cell_type": "code",
   "execution_count": null,
   "id": "9ad20583",
   "metadata": {
    "cell_id": "00018-cfbdcfd8-90d2-4a08-8ca8-30be1bd409ce",
    "deepnote_cell_height": 830,
    "deepnote_cell_type": "code",
    "deepnote_output_heights": [
     607
    ],
    "deepnote_to_be_reexecuted": false,
    "execution_millis": 495,
    "execution_start": 1619832515479,
    "source_hash": "6919905e"
   },
   "outputs": [],
   "source": [
    "import holoviews as hv \n",
    "xmin,ymin,xmax,ymax = box = (22,65,32,75)\n",
    "square = hv.Rectangles(data=box).opts(fill_alpha=0.1)\n",
    "\n",
    "crop = da.sel(x=slice(xmin,xmax),y=slice(ymin,ymax),channel = ['R','G','B'])\n",
    "cropview = crop.hvplot.rgb('x','y','value',bands = 'channel',flip_yaxis=True,data_aspect=1)\n",
    "\n",
    "(imview*square+cropview).opts(shared_axes=False).cols(1)"
   ]
  },
  {
   "cell_type": "markdown",
   "id": "009a085e",
   "metadata": {
    "cell_id": "00019-272c43d1-0c94-4ddb-a762-eb917c90712d",
    "deepnote_cell_height": 110,
    "deepnote_cell_type": "markdown"
   },
   "source": [
    "## Selection of the most contrasted channel"
   ]
  },
  {
   "cell_type": "markdown",
   "id": "f946a72f",
   "metadata": {
    "cell_id": "00020-82bea1cc-789b-4e82-a850-6d100d58bd00",
    "deepnote_cell_height": 154,
    "deepnote_cell_type": "markdown"
   },
   "source": [
    "Rather than displaying the color image, we can display a layout of the images of each channel. \n",
    "\n",
    "It results that the channel with most contrast to distinguish between blue lines and the white background is the red channel (not the blue one!). In fact, there is almost as much blue in the white and in the line, hence the poor contrast of the blue channel."
   ]
  },
  {
   "cell_type": "code",
   "execution_count": null,
   "id": "0df2655f",
   "metadata": {
    "cell_id": "00021-d0575c52-4ebf-4b1d-9885-2e7c110d0146",
    "deepnote_cell_height": 487,
    "deepnote_cell_type": "code",
    "deepnote_output_heights": [
     372
    ],
    "deepnote_to_be_reexecuted": false,
    "execution_millis": 233,
    "execution_start": 1619832515866,
    "source_hash": "4226a979"
   },
   "outputs": [],
   "source": [
    "cropopts = dict(colorbar=False,cmap='gray',xaxis=None,yaxis=None,data_aspect=1,flip_yaxis=True)\n",
    "crop.hvplot.image('x','y',**cropopts).layout('channel')"
   ]
  },
  {
   "cell_type": "markdown",
   "id": "9d6367ba",
   "metadata": {
    "cell_id": "00022-6d6f67b5-447c-4ada-a810-59c59c31be02",
    "deepnote_cell_height": 52,
    "deepnote_cell_type": "markdown"
   },
   "source": [
    "Another way to see that is to display the histograms of each channel."
   ]
  },
  {
   "cell_type": "code",
   "execution_count": null,
   "id": "7c5c3fed",
   "metadata": {
    "cell_id": "00023-287fb379-f8dc-4e39-8da4-812613d3d201",
    "deepnote_cell_height": 427,
    "deepnote_cell_type": "code",
    "deepnote_output_heights": [
     312
    ],
    "deepnote_to_be_reexecuted": false,
    "execution_millis": 245,
    "execution_start": 1619832516093,
    "source_hash": "dc5a9fe9"
   },
   "outputs": [],
   "source": [
    "hist = crop.hvplot.hist('value',by='channel',alpha=0.5)\n",
    "hist"
   ]
  },
  {
   "cell_type": "markdown",
   "id": "99c1a9a7",
   "metadata": {
    "cell_id": "00024-cf3b7a65-29ab-428e-af3e-d4eb8b476c49",
    "deepnote_cell_height": 134,
    "deepnote_cell_type": "markdown"
   },
   "source": [
    "# Translation between moiré patterns and between curves"
   ]
  },
  {
   "cell_type": "markdown",
   "id": "fe6d7e01",
   "metadata": {
    "cell_id": "00026-35189f5e-9919-48b6-89cc-0224de6c8878",
    "deepnote_cell_height": 70,
    "deepnote_cell_type": "markdown",
    "tags": []
   },
   "source": [
    "## Translation between two moiré patterns"
   ]
  },
  {
   "cell_type": "markdown",
   "id": "af709737",
   "metadata": {
    "cell_id": "00025-ef9b9d61-f36b-42ea-8b32-514aebfb973d",
    "deepnote_cell_height": 52,
    "deepnote_cell_type": "markdown"
   },
   "source": [
    "We select a second box upon the first one, and this time we only consider the R channel."
   ]
  },
  {
   "cell_type": "code",
   "execution_count": null,
   "id": "37388332",
   "metadata": {
    "cell_id": "00026-2bfb03c5-662d-4a93-9477-2dec21aab5c3",
    "deepnote_cell_height": 207,
    "deepnote_cell_type": "code",
    "deepnote_to_be_reexecuted": false,
    "execution_millis": 507,
    "execution_start": 1619832516317,
    "output_cleared": false,
    "source_hash": "3d69f280"
   },
   "outputs": [],
   "source": [
    "boxes = dict()\n",
    "boxes[0], boxes[1] = (22,65,32,75),(22,55,32,65)\n",
    "\n",
    "square0 = hv.Rectangles(data=boxes[0]).opts(fill_alpha=0.1)\n",
    "square1 = hv.Rectangles(data=boxes[1]).opts(fill_alpha=0.1)\n",
    "selection = (imview*square0*square1)\n",
    "selection"
   ]
  },
  {
   "cell_type": "code",
   "execution_count": null,
   "id": "77535731",
   "metadata": {
    "cell_id": "00027-a585140f-27ed-422c-860a-91816505caf9",
    "deepnote_cell_height": 349,
    "deepnote_cell_type": "code",
    "deepnote_to_be_reexecuted": false,
    "execution_millis": 1350,
    "execution_start": 1619832516766,
    "source_hash": "5ef0f123"
   },
   "outputs": [],
   "source": [
    "def boxes2crop(boxes):\n",
    "    crops = dict()\n",
    "    for key,box in boxes.items():\n",
    "        xmin,ymin,xmax,ymax = box\n",
    "        sel = dict(x=slice(xmin,xmax),y=slice(ymin,ymax),channel = ['R'])\n",
    "        crops[key] = da.sel(**sel).squeeze()\n",
    "    return crops\n",
    "\n",
    "crops = boxes2crop(boxes)\n",
    "\n",
    "\n",
    "layout = hv.Layout([crop.hvplot.image('x','y',**cropopts,shared_axes=False) \n",
    "                    for k,crop in crops.items()])\n",
    "\n",
    "layout"
   ]
  },
  {
   "cell_type": "markdown",
   "id": "1cc360fa",
   "metadata": {
    "cell_id": "00028-15e7e80c-4b81-421e-b2ad-0fdac86faae3",
    "deepnote_cell_height": 74,
    "deepnote_cell_type": "markdown"
   },
   "source": [
    "The two selected patterns are very similar but the second one appears to be shifted on the right. We are going to determine the exact subpixellic translation with a scikit-image registration algorithm."
   ]
  },
  {
   "cell_type": "code",
   "execution_count": null,
   "id": "f74fcca1",
   "metadata": {
    "cell_id": "00029-1fd77796-3466-4566-9066-5ad0914bce04",
    "deepnote_cell_height": 120,
    "deepnote_cell_type": "code",
    "deepnote_to_be_reexecuted": false,
    "execution_millis": 1217,
    "execution_start": 1619832516900,
    "source_hash": "52ca8241"
   },
   "outputs": [],
   "source": [
    "from skimage.registration import phase_cross_correlation\n",
    "shift,_,_ = phase_cross_correlation(crops[0].data,crops[1].data,upsample_factor=10)\n",
    "shift"
   ]
  },
  {
   "cell_type": "markdown",
   "id": "56d650a5",
   "metadata": {
    "cell_id": "00030-f39592dc-7278-45a4-b299-c4fd1dd4849b",
    "deepnote_cell_height": 73,
    "deepnote_cell_type": "markdown"
   },
   "source": [
    "We cancel this translation and make the two images match the most.\n",
    "So we can check that the translation is correct by comparing the image difference. The hover tool is usefull to check the actual pixel values."
   ]
  },
  {
   "cell_type": "code",
   "execution_count": null,
   "id": "8244a16b",
   "metadata": {
    "cell_id": "00031-66339681-ea21-42ce-bc79-82b96f6e4b81",
    "deepnote_cell_height": 228,
    "deepnote_cell_type": "code",
    "deepnote_to_be_reexecuted": false,
    "execution_millis": 845,
    "execution_start": 1619832517277,
    "source_hash": "4f5639e6"
   },
   "outputs": [],
   "source": [
    "from skimage.transform import SimilarityTransform, warp\n",
    "\n",
    "t = SimilarityTransform(translation = (11.1,0))\n",
    "h0 = hv.Image(crops[0].data).opts(tools = ['hover'])\n",
    "im1translated = warp(crops[1].data,t,preserve_range=True)\n",
    "h1translated = hv.Image(im1translated).opts(tools = ['hover'])\n",
    "\n",
    "delta = crops[0].data-im1translated\n",
    "hdelta = hv.Image(delta).opts(tools = ['hover'])\n",
    "(h0+h1translated+hdelta).cols(2)"
   ]
  },
  {
   "cell_type": "markdown",
   "id": "3f58e0e1",
   "metadata": {
    "cell_id": "00033-6cd652f8-b2a6-4efc-8fac-a5d0555d85d6",
    "deepnote_cell_height": 73,
    "deepnote_cell_type": "markdown",
    "tags": []
   },
   "source": [
    "Now we know that the whole pattern is mainly invariant with respect to a translation of 10mm (i.e 118.1 pixels) vertically and 11.1 pixels horizontally (i.e 0.94mm)."
   ]
  },
  {
   "cell_type": "code",
   "execution_count": null,
   "id": "1be70b5d",
   "metadata": {
    "cell_id": "00032-327ed09b-56b7-433e-be20-e5e49816ad4f",
    "deepnote_cell_height": 66,
    "deepnote_cell_type": "code",
    "deepnote_to_be_reexecuted": false,
    "execution_millis": 748642,
    "execution_start": 1619832518081,
    "source_hash": "1b0676b9"
   },
   "outputs": [],
   "source": [
    "10*300/inch_mm, 11.1*inch_mm/300"
   ]
  },
  {
   "cell_type": "markdown",
   "id": "66131e5a",
   "metadata": {
    "cell_id": "00035-6d751f36-1334-44a4-9f01-7ea496ef788c",
    "deepnote_cell_height": 37,
    "deepnote_cell_type": "markdown",
    "tags": []
   },
   "source": [
    "## Translation between two wave curves"
   ]
  },
  {
   "cell_type": "markdown",
   "id": "ef087ea3",
   "metadata": {
    "cell_id": "00034-64c494c0-e1b7-44a6-8ac2-5e0a278566b2",
    "deepnote_cell_height": 145,
    "deepnote_cell_type": "markdown",
    "tags": []
   },
   "source": [
    "In the image above, we can count and see that there is room for a bit more than 16 almost horizontal wave curves in the 10mm vertical direction of the crop. Since the moiré pattern repeats itself for a translation of 10mm vertically and 0.94mm horizontally, there has to be 17 curves exactly in 10mm.\n",
    "\n",
    "Thus the horizontal wave part pattern has to be invariant through a translation of vector translation_unit."
   ]
  },
  {
   "cell_type": "code",
   "execution_count": null,
   "id": "aaf5ccd3",
   "metadata": {
    "cell_id": "00035-0fb50e6f-80bd-4be9-9949-5f1a7dcf723e",
    "deepnote_cell_height": 84,
    "deepnote_cell_type": "code",
    "deepnote_to_be_reexecuted": false,
    "execution_millis": 746328,
    "execution_start": 1619832518082,
    "source_hash": "21677420",
    "tags": []
   },
   "outputs": [],
   "source": [
    "translation_unit = np.array([-11.1,118.11])/16\n",
    "translation_unit"
   ]
  },
  {
   "cell_type": "markdown",
   "id": "4d5c55a1",
   "metadata": {
    "cell_id": "00039-991c1196-5fea-4474-84ed-d59984c1ac06",
    "deepnote_cell_height": 55,
    "deepnote_cell_type": "markdown",
    "tags": []
   },
   "source": [
    "To make the first subpattern pop, we can create a stack of 16 translated images and apply a median filtering on this stack."
   ]
  },
  {
   "cell_type": "code",
   "execution_count": null,
   "id": "d6e53ec7",
   "metadata": {
    "cell_id": "00039-fe3ed702-a213-4aa1-983e-5437cd677088",
    "deepnote_cell_height": 228,
    "deepnote_cell_type": "code",
    "deepnote_to_be_reexecuted": false,
    "execution_millis": 1749,
    "execution_start": 1619832518083,
    "output_cleared": false,
    "source_hash": "bd0d3458",
    "tags": []
   },
   "outputs": [],
   "source": [
    "vignette = da.sel(channel='R').data\n",
    "ims = []\n",
    "for k in range(16):\n",
    "    translation = k*translation_unit\n",
    "    t = SimilarityTransform(translation = translation)\n",
    "    ims.append(warp(vignette,t,preserve_range=True))\n",
    "\n",
    "im_median = np.median(np.array(ims),axis=0)\n",
    "\n",
    "Image.fromarray(im_median>128)"
   ]
  },
  {
   "cell_type": "markdown",
   "id": "078838d3",
   "metadata": {
    "cell_id": "00040-ebc3b8d8-8b59-42c9-8fb2-39554719aae0",
    "deepnote_cell_height": 91,
    "deepnote_cell_type": "markdown",
    "tags": []
   },
   "source": [
    "## Translation between line patterns\n",
    "In the same way as before, we first determine the translation between the two moiré patterns that lie on a line orthogonal to the line pattern.\n",
    "We find that these two boxes perfectly match."
   ]
  },
  {
   "cell_type": "code",
   "execution_count": null,
   "id": "06b056ba",
   "metadata": {
    "cell_id": "00040-4eaa624a-9527-4551-85f5-6e43d8bcba59",
    "deepnote_cell_height": 174,
    "deepnote_cell_type": "code",
    "deepnote_to_be_reexecuted": false,
    "execution_millis": 578,
    "execution_start": 1619832519924,
    "output_cleared": false,
    "source_hash": "70f9af7",
    "tags": []
   },
   "outputs": [],
   "source": [
    "boxes = dict()\n",
    "boxes[0], boxes[1] = (22,65,32,75),(34.085,40.915,44.085,50.915)\n",
    "\n",
    "square0 = hv.Rectangles(data=boxes[0]).opts(fill_alpha=0.1)\n",
    "square1 = hv.Rectangles(data=boxes[1]).opts(fill_alpha=0.1)\n",
    "selection = (imview*square0*square1)\n",
    "selection"
   ]
  },
  {
   "cell_type": "code",
   "execution_count": null,
   "id": "27606bcc",
   "metadata": {
    "cell_id": "00042-7637d496-08ed-43fe-8fe0-65342651f2f7",
    "deepnote_cell_height": 156,
    "deepnote_cell_type": "code",
    "deepnote_to_be_reexecuted": false,
    "execution_millis": 61469,
    "execution_start": 1619832520443,
    "source_hash": "ccdb028",
    "tags": []
   },
   "outputs": [],
   "source": [
    "transl = np.array([-12.085,24.085])\n",
    "vnorm = np.linalg.norm(transl)\n",
    "angle = np.arccos(transl[1]/vnorm)\n",
    "print('norm:',vnorm)\n",
    "print('angle:',angle*180/np.pi)\n",
    "14./10.*vnorm/np.cos(angle),14.5/10.*vnorm/np.cos(angle)"
   ]
  },
  {
   "cell_type": "markdown",
   "id": "3153ad42",
   "metadata": {
    "cell_id": "00042-022fe8f9-cdb4-4db8-a1ca-20e21c2fd417",
    "deepnote_cell_height": 127,
    "deepnote_cell_type": "markdown",
    "tags": []
   },
   "source": [
    "Since we count between 14 and 15 lines vertically in 10mm, there are 43 lines between the center of the two boxes (to persuade oneself, a small sketch comes handy).\n",
    "\n",
    "As before, we make the hidden pattern appear with a median filtering of a stack of translated images."
   ]
  },
  {
   "cell_type": "code",
   "execution_count": null,
   "id": "034061b8",
   "metadata": {
    "cell_id": "00044-64659880-fd0c-47af-b30f-ae32b3ab8b11",
    "deepnote_cell_height": 228,
    "deepnote_cell_type": "code",
    "deepnote_to_be_reexecuted": false,
    "execution_millis": 5414,
    "execution_start": 1619832520444,
    "source_hash": "949bbcd5",
    "tags": []
   },
   "outputs": [],
   "source": [
    "translation_unit2 = transl/43*300/inch_mm\n",
    "ims = []\n",
    "for k in range(43):\n",
    "    translation = k*translation_unit2\n",
    "    t = SimilarityTransform(translation = translation)\n",
    "    ims.append(warp(vignette,t,preserve_range=True))\n",
    "\n",
    "im_median2 = np.median(np.array(ims),axis=0)\n",
    "\n",
    "Image.fromarray(im_median2>128)"
   ]
  },
  {
   "cell_type": "markdown",
   "id": "2f28555f",
   "metadata": {
    "cell_id": "00035-f8918aab-be59-4074-9f4f-04ce71edc533",
    "deepnote_cell_height": 37,
    "deepnote_cell_type": "markdown"
   },
   "source": [
    "# Reproducing the San Pellegrino label"
   ]
  },
  {
   "cell_type": "markdown",
   "id": "ed30e987",
   "metadata": {
    "cell_id": "00036-95fe35ea-bb6c-448d-b1ec-d03e769b66fd",
    "deepnote_cell_height": 55,
    "deepnote_cell_type": "markdown"
   },
   "source": [
    "To extract one single curve from the image we label the connected components with the measure.label function from scikit-image."
   ]
  },
  {
   "cell_type": "code",
   "execution_count": null,
   "id": "914cc2df",
   "metadata": {
    "cell_id": "00037-e3fb6b26-efaf-4dab-8701-51bca0832dc0",
    "deepnote_cell_height": 174,
    "deepnote_cell_type": "code",
    "deepnote_to_be_reexecuted": false,
    "execution_millis": 381,
    "execution_start": 1619832525851,
    "output_cleared": false,
    "source_hash": "782e9333"
   },
   "outputs": [],
   "source": [
    "from skimage import measure\n",
    "\n",
    "crop = (im_median<128)[530:600,300:1000]\n",
    "labels = measure.label(crop)\n",
    "hlabel = hv.Image(labels).opts(cmap='nipy_spectral',data_aspect=0.1,frame_height=150)\n",
    "hlabel"
   ]
  },
  {
   "cell_type": "code",
   "execution_count": null,
   "id": "736977da",
   "metadata": {
    "cell_id": "00038-76cec4c6-7174-49bb-b95c-b8ac5d26bea7",
    "deepnote_cell_height": 84,
    "deepnote_cell_type": "code",
    "deepnote_to_be_reexecuted": false,
    "execution_millis": 729898,
    "execution_start": 1619832526167,
    "source_hash": "56ca1083"
   },
   "outputs": [],
   "source": [
    "subcrop = ((labels==1)*255).astype('uint8')\n",
    "Image.fromarray(subcrop)"
   ]
  },
  {
   "cell_type": "markdown",
   "id": "d5c980f2",
   "metadata": {
    "cell_id": "00049-97f346d5-6fb2-4382-a52e-63d60eecfdfe",
    "deepnote_cell_height": 55,
    "deepnote_cell_type": "markdown",
    "tags": []
   },
   "source": [
    "We now define a repeat function to translate and overlay an elementary image."
   ]
  },
  {
   "cell_type": "code",
   "execution_count": null,
   "id": "9b9eb77a",
   "metadata": {
    "cell_id": "00049-d1eb5c9c-6b63-4b9a-aa4e-eed2154ca034",
    "deepnote_cell_height": 264,
    "deepnote_cell_type": "code",
    "deepnote_to_be_reexecuted": false,
    "execution_millis": 255,
    "execution_start": 1619832526167,
    "source_hash": "41bb54c3",
    "tags": []
   },
   "outputs": [],
   "source": [
    "def repeat(im,translation_unit,k_repeat):\n",
    "    ims = []\n",
    "    for k in range(-10,k_repeat):\n",
    "        translation = k*translation_unit\n",
    "        t = SimilarityTransform(translation = translation)\n",
    "        ims.append(warp(im,t,preserve_range=True))\n",
    "\n",
    "    return np.sum(np.array(ims),axis=0)\n",
    "\n",
    "curveblack = np.concatenate((np.zeros((300,700)),subcrop)).astype('uint8')\n",
    "curve_sum = repeat(curveblack,translation_unit,40)\n",
    "Image.fromarray(curve_sum.astype('uint8'))"
   ]
  },
  {
   "cell_type": "code",
   "execution_count": null,
   "id": "7331a46e",
   "metadata": {
    "cell_id": "00050-c4ba2b37-582d-46b7-9035-85b2336226b2",
    "deepnote_cell_height": 174,
    "deepnote_cell_type": "code",
    "deepnote_to_be_reexecuted": false,
    "execution_millis": 376,
    "execution_start": 1619832526417,
    "source_hash": "342033cf",
    "tags": []
   },
   "outputs": [],
   "source": [
    "lineblack = np.zeros(curve_sum.shape)\n",
    "lineblack[131:133,:] = 255\n",
    "rot = SimilarityTransform(rotation = -26.6*np.pi/180,translation=(0,100))\n",
    "lineblack = warp(lineblack,rot,preserve_range = True)\n",
    "line_sum = repeat(lineblack,translation_unit2,40)\n",
    "Image.fromarray(line_sum.astype('uint8'))\n"
   ]
  },
  {
   "cell_type": "markdown",
   "id": "bdb108ab",
   "metadata": {
    "cell_id": "00052-f95106e3-0894-4bf0-99c9-1a1c7532152f",
    "deepnote_cell_height": 127,
    "deepnote_cell_type": "markdown",
    "tags": []
   },
   "source": [
    "These are the two patterns that were hidden in the San Pellegrino label. When we overlay one upon the other, we are back to the start with the iconic moiré pattern. \n",
    "\n",
    "Feel free to try other angle values, the aspect changes quite dramatically..."
   ]
  },
  {
   "cell_type": "code",
   "execution_count": null,
   "id": "0320e1fa",
   "metadata": {
    "cell_id": "00051-c988e3f5-292d-4b56-9a6c-59a55b7d2b22",
    "deepnote_cell_height": 66,
    "deepnote_cell_type": "code",
    "deepnote_to_be_reexecuted": false,
    "execution_millis": 14,
    "execution_start": 1619832526791,
    "source_hash": "1332ebe9",
    "tags": []
   },
   "outputs": [],
   "source": [
    "Image.fromarray(~((curve_sum>128) | (line_sum>128)))"
   ]
  }
 ],
 "metadata": {
  "deepnote": {},
  "deepnote_execution_queue": [],
  "deepnote_notebook_id": "3a5ed35a-4b0c-418c-af06-45ced15925a4",
  "kernelspec": {
   "display_name": "Python 3 (ipykernel)",
   "language": "python",
   "name": "python3"
  },
  "language_info": {
   "codemirror_mode": {
    "name": "ipython",
    "version": 3
   },
   "file_extension": ".py",
   "mimetype": "text/x-python",
   "name": "python",
   "nbconvert_exporter": "python",
   "pygments_lexer": "ipython3",
   "version": "3.9.12"
  },
  "latex_envs": {
   "LaTeX_envs_menu_present": true,
   "autoclose": false,
   "autocomplete": true,
   "bibliofile": "biblio.bib",
   "cite_by": "apalike",
   "current_citInitial": 1,
   "eqLabelWithNumbers": true,
   "eqNumInitial": 1,
   "hotkeys": {
    "equation": "Ctrl-E",
    "itemize": "Ctrl-I"
   },
   "labels_anchors": false,
   "latex_user_defs": false,
   "report_style_numbering": false,
   "user_envs_cfg": false
  }
 },
 "nbformat": 4,
 "nbformat_minor": 5
}
